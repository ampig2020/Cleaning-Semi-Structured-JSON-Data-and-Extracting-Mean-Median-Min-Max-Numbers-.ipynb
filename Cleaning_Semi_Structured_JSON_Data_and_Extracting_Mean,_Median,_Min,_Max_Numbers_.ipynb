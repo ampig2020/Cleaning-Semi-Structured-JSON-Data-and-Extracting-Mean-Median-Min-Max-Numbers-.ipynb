{
  "nbformat": 4,
  "nbformat_minor": 0,
  "metadata": {
    "colab": {
      "provenance": [],
      "authorship_tag": "ABX9TyOoU8bfKPQnvTiVnAVuUiyf",
      "include_colab_link": true
    },
    "kernelspec": {
      "name": "python3",
      "display_name": "Python 3"
    },
    "language_info": {
      "name": "python"
    }
  },
  "cells": [
    {
      "cell_type": "markdown",
      "metadata": {
        "id": "view-in-github",
        "colab_type": "text"
      },
      "source": [
        "<a href=\"https://colab.research.google.com/github/ampig2020/Cleaning-Semi-Structured-JSON-Data-and-Extracting-Mean-Median-Min-Max-Numbers-.ipynb/blob/main/Cleaning_Semi_Structured_JSON_Data_and_Extracting_Mean%2C_Median%2C_Min%2C_Max_Numbers_.ipynb\" target=\"_parent\"><img src=\"https://colab.research.google.com/assets/colab-badge.svg\" alt=\"Open In Colab\"/></a>"
      ]
    },
    {
      "cell_type": "markdown",
      "source": [
        "# Submitted by: Isidro P. Ampig III"
      ],
      "metadata": {
        "id": "PTVn5VotBKfo"
      }
    },
    {
      "cell_type": "code",
      "execution_count": null,
      "metadata": {
        "colab": {
          "base_uri": "https://localhost:8080/",
          "height": 39
        },
        "id": "e8rpcgiIbLrf",
        "outputId": "1bb081d1-adb9-4865-c881-373d8ea6846d"
      },
      "outputs": [
        {
          "output_type": "display_data",
          "data": {
            "text/plain": [
              "<IPython.core.display.HTML object>"
            ],
            "text/html": [
              "\n",
              "     <input type=\"file\" id=\"files-3c446442-5867-4646-a6e7-d7299f5fcb77\" name=\"files[]\" multiple disabled\n",
              "        style=\"border:none\" />\n",
              "     <output id=\"result-3c446442-5867-4646-a6e7-d7299f5fcb77\">\n",
              "      Upload widget is only available when the cell has been executed in the\n",
              "      current browser session. Please rerun this cell to enable.\n",
              "      </output>\n",
              "      <script>// Copyright 2017 Google LLC\n",
              "//\n",
              "// Licensed under the Apache License, Version 2.0 (the \"License\");\n",
              "// you may not use this file except in compliance with the License.\n",
              "// You may obtain a copy of the License at\n",
              "//\n",
              "//      http://www.apache.org/licenses/LICENSE-2.0\n",
              "//\n",
              "// Unless required by applicable law or agreed to in writing, software\n",
              "// distributed under the License is distributed on an \"AS IS\" BASIS,\n",
              "// WITHOUT WARRANTIES OR CONDITIONS OF ANY KIND, either express or implied.\n",
              "// See the License for the specific language governing permissions and\n",
              "// limitations under the License.\n",
              "\n",
              "/**\n",
              " * @fileoverview Helpers for google.colab Python module.\n",
              " */\n",
              "(function(scope) {\n",
              "function span(text, styleAttributes = {}) {\n",
              "  const element = document.createElement('span');\n",
              "  element.textContent = text;\n",
              "  for (const key of Object.keys(styleAttributes)) {\n",
              "    element.style[key] = styleAttributes[key];\n",
              "  }\n",
              "  return element;\n",
              "}\n",
              "\n",
              "// Max number of bytes which will be uploaded at a time.\n",
              "const MAX_PAYLOAD_SIZE = 100 * 1024;\n",
              "\n",
              "function _uploadFiles(inputId, outputId) {\n",
              "  const steps = uploadFilesStep(inputId, outputId);\n",
              "  const outputElement = document.getElementById(outputId);\n",
              "  // Cache steps on the outputElement to make it available for the next call\n",
              "  // to uploadFilesContinue from Python.\n",
              "  outputElement.steps = steps;\n",
              "\n",
              "  return _uploadFilesContinue(outputId);\n",
              "}\n",
              "\n",
              "// This is roughly an async generator (not supported in the browser yet),\n",
              "// where there are multiple asynchronous steps and the Python side is going\n",
              "// to poll for completion of each step.\n",
              "// This uses a Promise to block the python side on completion of each step,\n",
              "// then passes the result of the previous step as the input to the next step.\n",
              "function _uploadFilesContinue(outputId) {\n",
              "  const outputElement = document.getElementById(outputId);\n",
              "  const steps = outputElement.steps;\n",
              "\n",
              "  const next = steps.next(outputElement.lastPromiseValue);\n",
              "  return Promise.resolve(next.value.promise).then((value) => {\n",
              "    // Cache the last promise value to make it available to the next\n",
              "    // step of the generator.\n",
              "    outputElement.lastPromiseValue = value;\n",
              "    return next.value.response;\n",
              "  });\n",
              "}\n",
              "\n",
              "/**\n",
              " * Generator function which is called between each async step of the upload\n",
              " * process.\n",
              " * @param {string} inputId Element ID of the input file picker element.\n",
              " * @param {string} outputId Element ID of the output display.\n",
              " * @return {!Iterable<!Object>} Iterable of next steps.\n",
              " */\n",
              "function* uploadFilesStep(inputId, outputId) {\n",
              "  const inputElement = document.getElementById(inputId);\n",
              "  inputElement.disabled = false;\n",
              "\n",
              "  const outputElement = document.getElementById(outputId);\n",
              "  outputElement.innerHTML = '';\n",
              "\n",
              "  const pickedPromise = new Promise((resolve) => {\n",
              "    inputElement.addEventListener('change', (e) => {\n",
              "      resolve(e.target.files);\n",
              "    });\n",
              "  });\n",
              "\n",
              "  const cancel = document.createElement('button');\n",
              "  inputElement.parentElement.appendChild(cancel);\n",
              "  cancel.textContent = 'Cancel upload';\n",
              "  const cancelPromise = new Promise((resolve) => {\n",
              "    cancel.onclick = () => {\n",
              "      resolve(null);\n",
              "    };\n",
              "  });\n",
              "\n",
              "  // Wait for the user to pick the files.\n",
              "  const files = yield {\n",
              "    promise: Promise.race([pickedPromise, cancelPromise]),\n",
              "    response: {\n",
              "      action: 'starting',\n",
              "    }\n",
              "  };\n",
              "\n",
              "  cancel.remove();\n",
              "\n",
              "  // Disable the input element since further picks are not allowed.\n",
              "  inputElement.disabled = true;\n",
              "\n",
              "  if (!files) {\n",
              "    return {\n",
              "      response: {\n",
              "        action: 'complete',\n",
              "      }\n",
              "    };\n",
              "  }\n",
              "\n",
              "  for (const file of files) {\n",
              "    const li = document.createElement('li');\n",
              "    li.append(span(file.name, {fontWeight: 'bold'}));\n",
              "    li.append(span(\n",
              "        `(${file.type || 'n/a'}) - ${file.size} bytes, ` +\n",
              "        `last modified: ${\n",
              "            file.lastModifiedDate ? file.lastModifiedDate.toLocaleDateString() :\n",
              "                                    'n/a'} - `));\n",
              "    const percent = span('0% done');\n",
              "    li.appendChild(percent);\n",
              "\n",
              "    outputElement.appendChild(li);\n",
              "\n",
              "    const fileDataPromise = new Promise((resolve) => {\n",
              "      const reader = new FileReader();\n",
              "      reader.onload = (e) => {\n",
              "        resolve(e.target.result);\n",
              "      };\n",
              "      reader.readAsArrayBuffer(file);\n",
              "    });\n",
              "    // Wait for the data to be ready.\n",
              "    let fileData = yield {\n",
              "      promise: fileDataPromise,\n",
              "      response: {\n",
              "        action: 'continue',\n",
              "      }\n",
              "    };\n",
              "\n",
              "    // Use a chunked sending to avoid message size limits. See b/62115660.\n",
              "    let position = 0;\n",
              "    do {\n",
              "      const length = Math.min(fileData.byteLength - position, MAX_PAYLOAD_SIZE);\n",
              "      const chunk = new Uint8Array(fileData, position, length);\n",
              "      position += length;\n",
              "\n",
              "      const base64 = btoa(String.fromCharCode.apply(null, chunk));\n",
              "      yield {\n",
              "        response: {\n",
              "          action: 'append',\n",
              "          file: file.name,\n",
              "          data: base64,\n",
              "        },\n",
              "      };\n",
              "\n",
              "      let percentDone = fileData.byteLength === 0 ?\n",
              "          100 :\n",
              "          Math.round((position / fileData.byteLength) * 100);\n",
              "      percent.textContent = `${percentDone}% done`;\n",
              "\n",
              "    } while (position < fileData.byteLength);\n",
              "  }\n",
              "\n",
              "  // All done.\n",
              "  yield {\n",
              "    response: {\n",
              "      action: 'complete',\n",
              "    }\n",
              "  };\n",
              "}\n",
              "\n",
              "scope.google = scope.google || {};\n",
              "scope.google.colab = scope.google.colab || {};\n",
              "scope.google.colab._files = {\n",
              "  _uploadFiles,\n",
              "  _uploadFilesContinue,\n",
              "};\n",
              "})(self);\n",
              "</script> "
            ]
          },
          "metadata": {}
        }
      ],
      "source": [
        "#Import Neccessary Package and Library\n",
        "import json\n",
        "import pandas as pd\n",
        "import numpy as np\n",
        "import re\n",
        "\n",
        "#Using the Upload() function to upload the Json file\n",
        "from google.colab import files\n",
        "uploaded = files.upload()"
      ]
    },
    {
      "cell_type": "markdown",
      "source": [
        "# Cleaning the JSON Data"
      ],
      "metadata": {
        "id": "1ZEFYP7ifEmM"
      }
    },
    {
      "cell_type": "code",
      "source": [
        "\n",
        "# Loading the json data\n",
        "with open(\"/content/scraped_apartments_com_bay_area_jan26 (1).json\", \"r\") as read_file:\n",
        "    data = json.load(read_file)\n",
        "\n",
        "# Iterate over the Json Data Using For Loops and len function that returns the length of an object\n",
        "for i in range(len(data)):\n",
        "\n",
        "    # removing all newlines and extra whitespaces from Json because this \\n is a problem in order for us to visibly understand the data\n",
        "    data[i][\"Field1\"] = re.sub(r'\\s+', ' ', data[i][\"Field1\"]).strip()\n",
        "\n",
        "# Saving the cleaned data into a json file and downloading it to the local Folder in Colab\n",
        "with open(\"clean_data.json\", \"w\") as write_file:\n",
        "    json.dump(data, write_file)"
      ],
      "metadata": {
        "id": "CBKOsJvZhPgy"
      },
      "execution_count": null,
      "outputs": []
    },
    {
      "cell_type": "code",
      "source": [
        "#printing the clean data\n",
        "data\n"
      ],
      "metadata": {
        "id": "R513lByzedS6"
      },
      "execution_count": null,
      "outputs": []
    },
    {
      "cell_type": "markdown",
      "source": [
        "**Changing the \"Field1\" Key to Property**"
      ],
      "metadata": {
        "id": "H-ubK8_LfR4I"
      }
    },
    {
      "cell_type": "code",
      "source": [
        "import json\n",
        "\n",
        "# Load the json data\n",
        "with open(\"/content/clean_data.json\", \"r\") as read_file:\n",
        "    data = json.load(read_file)\n",
        "\n",
        "# Iterate over the data\n",
        "for i in range(len(data)):\n",
        "    # Rename the field from \"Field1\" to \"Property\" + (i+1)\n",
        "    data[i][\"Property\"] = data[i].pop(\"Field1\")\n",
        "\n",
        "# Dump the cleaned data back into a json file\n",
        "with open(\"clean_data.json\", \"w\") as write_file:\n",
        "    json.dump(data, write_file)\n",
        "\n",
        "\n"
      ],
      "metadata": {
        "id": "PP0B-LcDlr4_"
      },
      "execution_count": null,
      "outputs": []
    },
    {
      "cell_type": "code",
      "source": [
        "data"
      ],
      "metadata": {
        "id": "ha0ew3PBzlx-"
      },
      "execution_count": null,
      "outputs": []
    },
    {
      "cell_type": "markdown",
      "source": [
        "# Extracting the Mean, Median, Mininum, Maximum"
      ],
      "metadata": {
        "id": "BqpycFQWfsnD"
      }
    },
    {
      "cell_type": "code",
      "source": [
        "\n",
        "\n",
        "import statistics\n",
        "\n",
        "# Load the json data from file\n",
        "with open(\"/content/clean_data.json\", \"r\") as f:\n",
        "\n",
        "  #json.load() function  reads the data from a file \"clean_data.json\" and stores it in the data variable\n",
        "    data = json.load(f)\n",
        "\n",
        "\n",
        "# Extract the dollar amounts from the Clean_data.json file\n",
        "\n",
        "amounts = []\n",
        "\n",
        "#Using the For loops to iterate to every values of the key which is 'Property' and finding which Number has the $ sign with the number\n",
        "for item in data:\n",
        "    prop = item['Property']\n",
        "\n",
        "    # This code will extract the amount with the dollar sign split the string by the \"$\" character and then by space,\n",
        "    if \"$\" in prop:\n",
        "      \n",
        "      # The amounts are stored in a list called amounts. Then, the statistics library is used to calculate the mean, median, min, and max\n",
        "      # the amounts, and the results are saved to a file and printed to the console.\n",
        "        amount = int(prop.split(\"$\")[1].split(\" \")[0].replace(\",\", \"\"))\n",
        "        amounts.append(amount)\n",
        "      # The purpose of the else statement is to prevent error because there are values that don't have any $\n",
        "      # sign so if the Algo finds values without $ sign then it will print it on the console for investigation \n",
        "      # If it finds $ then he will procceed with finding the mean etc.\n",
        "    else:\n",
        "        print(f'{prop} does not contain \"$\"')\n",
        "\n",
        "if len(amounts) == 0:\n",
        "    print(\"No amount found\")\n",
        "else:\n",
        "    # Find the mean, median, min, and max\n",
        "    mean = statistics.mean(amounts)\n",
        "    median = statistics.median(amounts)\n",
        "    min_amt = min(amounts)\n",
        "    max_amt = max(amounts)\n",
        "\n",
        "    # Save the results to a file\n",
        "    with open(\"results.txt\", \"w\") as f:\n",
        "        f.write(\"Mean: ${}\\n\".format(mean))\n",
        "        f.write(\"Median: ${}\\n\".format(median))\n",
        "        f.write(\"Minimum: ${}\\n\".format(min_amt))\n",
        "        f.write(\"Maximum: ${}\\n\".format(max_amt))\n",
        "\n",
        "    # Print the results to the console\n",
        "    print(\"Rent Price Mean, Median, Minimum, Maximum:\")\n",
        "    print(\"Mean: ${}\".format(mean))\n",
        "    print(\"Median: ${}\".format(median))\n",
        "    print(\"Minimum: ${}\".format(min_amt))\n",
        "    print(\"Maximum: ${}\".format(max_amt))\n",
        "\n",
        "\n"
      ],
      "metadata": {
        "colab": {
          "base_uri": "https://localhost:8080/"
        },
        "id": "QZVtUdhZPlC0",
        "outputId": "166057a3-41da-43f9-ef01-80fd711bc9d6"
      },
      "execution_count": null,
      "outputs": [
        {
          "output_type": "stream",
          "name": "stdout",
          "text": [
            "8585 Seawind Wy 8585 Seawind Wy Newark, CA 94560 Call for Rent 3 Beds does not contain \"$\"\n",
            "2638 Fisher Ave 2638 Fisher Ave Oakland, CA 94605 Call for Rent does not contain \"$\"\n",
            "Rent Price Mean, Median, Minimum, Maximum:\n",
            "Mean: $4285.316318638825\n",
            "Median: $3680\n",
            "Minimum: $600\n",
            "Maximum: $84000\n"
          ]
        }
      ]
    },
    {
      "cell_type": "markdown",
      "source": [
        "# Determine the Number of Records"
      ],
      "metadata": {
        "id": "iaEWS2ZbgOKY"
      }
    },
    {
      "cell_type": "code",
      "source": [
        "\n",
        "# Loading the json data from file\n",
        "with open(\"/content/clean_data.json\", \"r\") as f:\n",
        "    data = json.load(f)\n",
        "\n",
        "# Getting the number of records\n",
        "num_records = len(data)\n",
        "\n",
        "# Saving the number of records to a file\n",
        "with open(\"num_records.txt\", \"w\") as f:\n",
        "    f.write(\"Number of records: {}\".format(num_records))\n",
        "\n",
        "# Printing the number of records\n",
        "print(\"Number of records: \", num_records)\n",
        "\n",
        "# In the the code above, it first opens a file named \"data.json\" and uses the json.load() \n",
        "# function to parse the JSON data and store it in the data variable. \n",
        "# Then, it uses the len() function to get the number of records in the data and stores it in the num_records variable.\n",
        "# After that, it opens another file called \"num_records.txt\" and writes the value of num_records variable to the file. \n",
        "# Finally, it prints the number of records to the console.\n",
        "\n"
      ],
      "metadata": {
        "colab": {
          "base_uri": "https://localhost:8080/"
        },
        "id": "W0e9mjkRZipj",
        "outputId": "330b19a7-aca9-4631-c662-106c12ed5554"
      },
      "execution_count": null,
      "outputs": [
        {
          "output_type": "stream",
          "name": "stdout",
          "text": [
            "Number of records:  1295\n"
          ]
        }
      ]
    },
    {
      "cell_type": "markdown",
      "source": [
        "# Determining the Mean, Median, Minimum, and Maximum for the Number of Bath Houses"
      ],
      "metadata": {
        "id": "XyfbEXhUt0gY"
      }
    },
    {
      "cell_type": "code",
      "source": [
        "\n",
        "# Load the json data from file\n",
        "with open(\"/content/clean_data.json\", \"r\") as f:\n",
        "    #json.load() function  reads the data from a file \"clean_data.json\" and stores it in the json_data variable\n",
        "    json_data = json.load(f)\n",
        "\n",
        "# Extract the number of bathrooms from each property in the JSON. \n",
        "# You can do this by iterating through each key-value pair and using a regular expression \n",
        "# to match the number of bathrooms in the value (e.g. \"2.5 bath\").\n",
        "bathrooms = []\n",
        "\n",
        "#Using the For loops to iterate to every values of the key which is 'Property' and \n",
        "# finding the number of bathroom from each property by using loop to iterate over the key-value pairs.\n",
        "for property in json_data:\n",
        "    for key, value in property.items():\n",
        "        match = re.search(r\"(\\d\\.\\d|\\d) bath\", value)\n",
        "        if match:\n",
        "            bathrooms.append(float(match.group(1)))\n",
        "\n",
        "# To calculate the mean, you can add up all the numbers of bathrooms and divide by the total number of properties. \n",
        "# To calculate the median, you can sort the numbers of bathrooms and find the middle value. \n",
        "# To find the minimum and maximum, you can use the min() and max() functions.\n",
        "mean = sum(bathrooms) / len(bathrooms)\n",
        "median = sorted(bathrooms)[len(bathrooms) // 2]\n",
        "minimum = min(bathrooms)\n",
        "maximum = max(bathrooms)\n",
        "\n",
        "# Save the mean, median, minimum, and maximum to a file\n",
        "with open(\"bathrooms.txt\", \"w\") as f:\n",
        "    f.write(f\"Mean: {mean}\\n\")\n",
        "    f.write(f\"Median: {median}\\n\")\n",
        "    f.write(f\"Minimum: {minimum}\\n\")\n",
        "    f.write(f\"Maximum: {maximum}\\n\")\n",
        "\n",
        "# Print the mean, median, minimum, and maximum on the console\n",
        "print(f\"Mean: {mean}\")\n",
        "print(f\"Median: {median}\")\n",
        "print(f\"Minimum: {minimum}\")\n",
        "print(f\"Maximum: {maximum}\")\n"
      ],
      "metadata": {
        "colab": {
          "base_uri": "https://localhost:8080/"
        },
        "id": "f-nYpTFclp2p",
        "outputId": "b41214d2-9257-4f00-a4f6-3ec735e61951"
      },
      "execution_count": null,
      "outputs": [
        {
          "output_type": "stream",
          "name": "stdout",
          "text": [
            "Mean: 2.0048076923076925\n",
            "Median: 2.0\n",
            "Minimum: 1.0\n",
            "Maximum: 7.0\n"
          ]
        }
      ]
    },
    {
      "cell_type": "markdown",
      "source": [
        "# Determining the Mean, Median, Minimum, and Maximum for the Number of Bedrooms but let Studio Bedrooms = 0;"
      ],
      "metadata": {
        "id": "HW9qOmhO0gTP"
      }
    },
    {
      "cell_type": "code",
      "source": [
        "#import the json and re (regular expressions) module, which are needed for reading the JSON data \n",
        "# and extracting the number of \"br\" from the strings, respectively.\n",
        "import json\n",
        "import re\n",
        "\n",
        "# opens the file \"property_data.json\" in read mode and assigns the file object to the variable f. \n",
        "# The with statement is used to ensure that the file is properly closed after it is used.\n",
        "with open(\"/content/clean_data.json\", \"r\") as f:\n",
        "\n",
        "  # json.load() function is used to parse the contents of the file and load it into the \n",
        "  # variable json_data as a list of dictionary.\n",
        "    json_data = json.load(f)\n",
        "\n",
        "# Extract the number of \"br\" from each property\n",
        "br_count = []\n",
        "\n",
        "# using For loop that iterates over the key-value pairs in each item of the list.\n",
        "for item in json_data:\n",
        "    for key, value in item.items():\n",
        "\n",
        "      # re.search() function to search for the regular expression \"(\\d+)\n",
        "      # br\" in the value of the current key-value pair. \n",
        "      # The regular expression looks for one or more digits followed by the string \"br\". \n",
        "      #The (\\d+) part of the regular expression is a capturing group that captures the number of digits matched. \n",
        "      # The match variable will contain the match object if a match is found, or None if no match is found.\n",
        "        match = re.search(r\"(\\d+) br\", value)\n",
        "\n",
        "        #if match checks if a match was found in the previous step. If a match was found, \n",
        "        # the code inside the if block will be executed, otherwise it will be skipped.\n",
        "        if match:\n",
        "\n",
        "          #This line appends the captured number of \"br\" to the br_count list. The match.group(1) method returns the first captured group, which is the number of \"br\" in this case. The int() function is used to convert the captured group from a string to an integer.\n",
        "            br_count.append(int(match.group(1)))\n",
        "\n",
        "# Calculate the mean, median, minimum, and maximum number of \"br\"\n",
        "mean = sum(br_count) / len(br_count)\n",
        "median = sorted(br_count)[len(br_count) // 2]\n",
        "minimum = min(br_count)\n",
        "maximum = max(br_count)\n",
        "\n",
        "# Save the mean, median, minimum, and maximum to a file\n",
        "with open(\"br_count.txt\", \"w\") as f:\n",
        "    f.write(f\"Mean: {mean}\\n\")\n",
        "    f.write(f\"Median: {median}\\n\")\n",
        "    f.write(f\"Minimum: {minimum}\\n\")\n",
        "    f.write(f\"Maximum: {maximum}\\n\")\n",
        "\n",
        "# Print the mean, median, minimum, and maximum on the console\n",
        "print(f\"Mean: {mean}\")\n",
        "print(f\"Median: {median}\")\n",
        "print(f\"Minimum: {minimum}\")\n",
        "print(f\"Maximum: {maximum}\")\n"
      ],
      "metadata": {
        "colab": {
          "base_uri": "https://localhost:8080/"
        },
        "id": "Nl_cjTC20vym",
        "outputId": "a99edc20-f3b2-43a9-b7d2-b39149047a89"
      },
      "execution_count": null,
      "outputs": [
        {
          "output_type": "stream",
          "name": "stdout",
          "text": [
            "Mean: 2.834970530451866\n",
            "Median: 3\n",
            "Minimum: 1\n",
            "Maximum: 7\n"
          ]
        }
      ]
    },
    {
      "cell_type": "markdown",
      "source": [
        "# How did I Clean the Json File Using Python? (Please see Code Comments for specific explanation of every algorithm)\n",
        "\n",
        "Cleaning this JSON file involves removing unnecessary fields, formatting the data in a specific way, and removing duplicate or invalid entries. The specific steps required to clean a JSON file will depend on the structure and contents of the file, as well as the desired outcome.\n",
        "\n",
        "The first thing that I did is I removed the newline characters(\\n), extra whitespaces and leading/trailing whitespaces and then change change the field into Property for better labelling. It's important to cleaned the Json data in order for me to effectively manipulate it so I can answer the answer_template.csv questions. In order for me to manipulate the data, I need to structure the semi-structured into a table but later on I realized that it is harder than I thought since I don't know how to automatically assign the values to their respective \"Keys\" which will be the column.\n",
        "\n",
        "I then procceed to just extract the numbers that is needed which is the Mean, Median, Min, and Max since it it that is needed. I then code a for loop and else statement that will extract the dollar amount by iterating to the whole values under keys  and splitting the string by the \"$\" character and then by space, the amounts are stored in a list called amounts. Then, the statistics library is used to calculate the mean, median, min, and max of the amounts, and the results are saved to a file and printed to the console.\n",
        "\n",
        "\n",
        "\n",
        "\n",
        "\n"
      ],
      "metadata": {
        "id": "ShNu6dmzlEvv"
      }
    }
  ]
}